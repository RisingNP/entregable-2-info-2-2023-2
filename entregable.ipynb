{
 "cells": [
  {
   "cell_type": "code",
   "execution_count": null,
   "metadata": {},
   "outputs": [],
   "source": [
    "from scipy.io import loadmat \n",
    "import pandas as pd\n",
    "import numpy as np\n",
    "import matplotlib.pyplot as plt\n",
    "\n",
    "\n",
    "datos_mat = loadmat(\"r01_edfm (1).mat\")['val']\n",
    "\n",
    "x = np.arange(datos_mat.shape[1])\n",
    "\n",
    "plt.subplot(111)\n",
    "plt.plot(x,datos_mat[0])\n",
    "plt.xlabel('tiempo')\n",
    "plt.ylabel('intensidad')\n",
    "plt.show"
   ]
  },
  {
   "cell_type": "code",
   "execution_count": 1,
   "metadata": {},
   "outputs": [],
   "source": [
    "from scipy.io import loadmat \n",
    "import pandas as pd\n",
    "import numpy as np\n",
    "import matplotlib.pyplot as plt\n",
    "def Verificar_entero(entrada):\n",
    "    while True:\n",
    "        dato_int = input(f'ingrese {entrada}')\n",
    "        try:\n",
    "            return int(dato_int)\n",
    "        except:\n",
    "            print(f'para {entrada} debe ingresar un numero entero.')\n",
    "            continue\n",
    "class archivo_mat:\n",
    "    def __init__(self):\n",
    "        self.__data = loadmat(\"r01_edfm (1).mat\")['val']\n",
    "        self.__shape = self.__data.shape\n",
    "    \n",
    "    def obten_data(self):\n",
    "        return self.__data\n",
    "    \n",
    "    def obten_limites(self): \n",
    "        while True:\n",
    "            #limite inferior\n",
    "            Linf = Verificar_entero(f'el valor mínimo del rango en el/los arreglo/s que desea graficar (hay {self.__shape[1]} valores)')\n",
    "            if Linf<0 or Linf>=self.__shape[1]:\n",
    "                print('ingrese un valor que esté dentro del rango del arreglo... reintentando')\n",
    "                continue\n",
    "            #Limite superior\n",
    "            Lsup = input(f'ingrese el valor máximo del rango en el/los arreglo/s que desea graficar (hay {self.__shape[1]} valores)')\n",
    "            if Lsup<=0 or Lsup>self.__shape[1]:\n",
    "                print('ingrese un valor que esté dentro del rango del arreglo... reintentando')\n",
    "                continue\n",
    "            if Lsup<=Linf:\n",
    "                print('el maximo debe ser mayor al mínimo... reintentando')\n",
    "                continue\n",
    "            else:\n",
    "                return (Linf,Lsup)\n",
    "\n"
   ]
  }
 ],
 "metadata": {
  "kernelspec": {
   "display_name": "base",
   "language": "python",
   "name": "python3"
  },
  "language_info": {
   "codemirror_mode": {
    "name": "ipython",
    "version": 3
   },
   "file_extension": ".py",
   "mimetype": "text/x-python",
   "name": "python",
   "nbconvert_exporter": "python",
   "pygments_lexer": "ipython3",
   "version": "3.11.5"
  }
 },
 "nbformat": 4,
 "nbformat_minor": 2
}
